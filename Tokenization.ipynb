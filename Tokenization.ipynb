{
 "cells": [
  {
   "cell_type": "code",
   "execution_count": 1,
   "metadata": {},
   "outputs": [],
   "source": [
    "import requests\n",
    "from bs4 import BeautifulSoup\n",
    "\n",
    "#Function to scrape text from a given URL\n",
    "def scrape_text(url):\n",
    "    response = requests.get(url)\n",
    "    soup = BeautifulSoup(response.text, 'html.parser')\n",
    "    # Extract text from paragraph tags as an example\n",
    "    paragraphs = soup.find_all('p')\n",
    "    text = ' '.join([para.get_text() for para in paragraphs])\n",
    "    return text\n",
    "\n",
    "#URLs to scrape\n",
    "url1 = 'https://www.everydayhealth.com/diet-nutrition-pictures/best-salad-greens-for-your-health.aspx'\n",
    "url2 = 'https://recipes.timesofindia.com/recipes/chicken-cutlets/rs53221104.cms'\n",
    "\n",
    "text1 = scrape_text(url1)\n",
    "text2 = scrape_text(url2)\n"
   ]
  },
  {
   "cell_type": "code",
   "execution_count": 2,
   "metadata": {},
   "outputs": [
    {
     "name": "stdout",
     "output_type": "stream",
     "text": [
      "[1] [2] [3] While nearly all salad greens have some health benefits to offer, they can differ somewhat in the type and amount of fiber, vitamins, and minerals they contain, says Kelly Kennedy, RDN, the staff nutritionist for Everyday Health. Getting a variety of leafy greens in your diet is a good strategy to take advantage of the health benefits they have to offer. Read on for our ranking of 14 salad greens, including nutritional information, why they’re healthy, and some meal prep ideas. Portion: 1 cup raw Calories: 31.1 Carbs: 1 gram (g) Fiber: 0.8 g Protein: 0.6 g [4] [5] [6] [7] [8] [9] \"Kale is delicious raw or cooked,\" says Kennedy. \"It's simple to prepare sautéed with some onions and garlic, amazing baked into 'chips,' and makes a great base for a salad.\" For the salad, if you chop the kale into small pieces or allow it to sit in the dressing for a little bit before eating (or both), it becomes more tender, she explains. Kale also pairs well with roasted squash, nuts, seeds, and beans. \"However you serve kale, just be sure to remove the tough ribbing first,\" Kennedy says Portion: 1 cup raw Calories: 7 Carbs: 1 g Fiber: 0.7 g Protein: 1 g [10] [11] “Spinach makes a great salad base,” says Kennedy. “What I love about having spinach on hand is that it can easily be incorporated into so many dishes without ‘taking over’ flavorwise. It’s excellent on top of a sandwich, stirred into an omelet, and sautéed in olive oil.” Alternatively, pair spinach with strawberries, balsamic, and a sprinkle of feta cheese for a flavor-packed salad. Portion: 1 cup raw Calories: 8 Carbs: 2 g Fiber: 1.4 g Protein: 1 g [12] “Beet greens can be eaten raw or prepared in the same way as spinach or kale. Try sautéing them with olive oil, garlic, and onions,” says Kennedy. Portion: 1 cup raw Calories: 7 Carbs: 1 g Fiber: 0.6 g Protein: 1 g [13] “Swiss chard has a distinct flavor that not everyone appreciates,” says Kennedy. “It tastes great sautéed with garlic and onions and mixes into a quiche or frittata well. If you’ve tried it one way and didn’t like it, try cooking it a different way — you may be surprised!” Consider combining chard with a few other greens to make your own mix. Portion: 1 cup raw Calories: 25 Carbs: 5 g Fiber: 1.9 g Protein: 2 g [14] “Dandelion greens are excellent in a salad and can also be sautéed and enjoyed warm,” says Kennedy. Portion: 1 cup raw Calories: 15 Carbs: 3 g Fiber: 1.8 g Protein: 2 g [15] “Mustard greens are excellent raw with oil and vinegar and also sautéed with olive oil and herbs,” says Kennedy. Portion: 1 cup raw Calories: 12 Carbs: 2 g Fiber: 1.4 g Protein: 1 g [16] “If you’re not used to preparing collard greens, you’ll be surprised by how easy they are to cook,” says Kennedy. “Simply sauté them in olive oil, and allow them to simmer for about 45 minutes. Collard greens take longer to cook than other greens but are worth the wait! They taste great raw, too.” Portion: 1 cup raw Calories: 4 Carbs: 0 g Fiber: 0.2 g Protein: 1 g [17] “Watercress makes a delicious addition to a salad, and if you love its peppery flavor, it can even be enjoyed alone with just a touch of oil and vinegar,” says Kennedy. “Watercress can also be pureed into a soup for an extra dose of flavor and nutrition.” Portion: 1 cup shredded Calories: 5 Carbs: 1 g Fiber: 0.05 g Protein: 0.05 g [18] “Romaine lettuce has a great crunch and is delicious served in a salad or on top of a sandwich,” says Kennedy. “Romaine can even be lightly grilled for a unique, slightly charred flavor.” To boost the nutritional value of your salad, mix romaine with some spinach or kale to pack in more antioxidants, or opt for a premixed blend. “Prepackaged salad green mixtures offer a wide variety of nutrients without you having to buy large quantities of each type of green,” says Kennedy. Tossing your salad greens with a small amount of healthy oil is also a great idea, as the oil adds a dose of healthy fat (and flavor) and can also improve your body’s absorption of fat-soluble vitamins from the salad, she adds. Portion: 1 cup shredded Calories: 5 Carbs: 1 g Fiber: 0.5 g Protein: 0 g [19] “Most people know that red and green lettuce can be served in a salad or on top of a sandwich, but it’s also delicious sautéed, steamed, or grilled,” says Kennedy. Like many salad greens, it’s a little low in fiber, though, so bulk up your salad with higher-fiber veggies such as broccoli, carrots, and legumes, Kennedy recommends. Portion: 1 cup shredded Calories: 7 Carbs: 1 g Fiber: 0.6 g Protein: 1 g [20] “Also great as a salad or on top of a sandwich, the size of these lettuce leaves makes them a great bread replacement for anyone looking to go low-carb,” says Kennedy. “You can make a traditional sandwich and serve it on butter lettuce, or even roll the ingredients inside the leaves to create a sort of ‘wrap’ in place of a tortilla.” Portion: 1 cup raw Calories: 8 Carbs: 2 g Fiber: 1.6 g Protein: 0.6 g [21] Meal Prep Inspo “Endive is excellent chopped and served in a salad,” says Kennedy. “Because of its firm texture, endive can be served in individual leaves with dip, or as a small roll-up.” Portion: 2 cups raw Calories: 10 Carbs: 2 g Fiber: 0.6 g Protein: 1 g [22] “Arugula has a strong, peppery flavor that some people can’t get enough of,” says Kennedy. “If this is you, it makes for a great salad all by itself. If the flavor is a bit strong for you, I’d recommend using it more as a condiment — adding a small amount to a salad or a few leaves on top of a sandwich.” Portion: 2 cups chopped Calories: 16 Carbs: 3 g Fiber: 1.4 g Protein: 1 g [23] Still, this crispy and inexpensive green doesn’t have to be removed from the menu entirely. “If it’s the only way you enjoy salad, or it’s what’s being offered at a dinner you’re attending, then go for it, and enjoy it as a nice contributor to your daily fluid needs,” says Kennedy. “However, if you like other, more nutrient-rich salad greens (and they’re available), you’d be better off nutritionally choosing one of those.” “Iceberg lettuce can be used just like butter lettuce (as a salad, on top of a sandwich, or as a bread replacement),” says Kennedy. “I don’t usually recommend iceberg lettuce because there’s not much nutritional value to it — I usually tell people to just have a glass of water instead.” Leafy salad greens are an excellent source of nutrition overall. They are particularly great sources of nitrates and several vitamins, including vitamin K, vitamin C, and some B vitamins. That said, not all salad greens are created equal. Your top options when it comes to nutrition include kale, spinach, beet greens and Swiss chard. Greens are easy to add to almost any meal, either as a sautéed side dish or as part of a salad, or even a sandwich topping. As with all foods, the key is to have a variety and balance, so try eating as many of these healthy, nutrition-dense vegetables as you can. Reyna Franco, RDN, is a New York City–based dietitian-nutritionist, certified specialist in sports dietetics, and certified personal trainer. She is a diplomate of the American College of Lifestyle Medicine and has a master's degree in nutrition and exercise physiology from Columbia University. In her private practice, she provides medical nutrition therapy for weight management, sports nutrition, diabetes, cardiac disease, renal disease, gastrointestinal disorders, cancer, food allergies, eating disorders, and childhood nutrition. To serve her diverse patients, she demonstrates cultural sensitivity and knowledge of customary food practices. She applies the tenets of lifestyle medicine to reduce the risk of chronic disease and improve health outcomes for her patients. Franco is also a corporate wellness consultant who conducts wellness counseling and seminars for organizations of every size. She taught sports nutrition to medical students at the Albert Einstein College of Medicine, taught life cycle nutrition and nutrition counseling to undergraduate students at LaGuardia Community College, and precepts nutrition students and interns. She created the sports nutrition rotation for the New York Distance Dietetic Internship program. She is the chair of the American College of Lifestyle Medicine's Registered Dietitian-Nutritionist Member Interest Group. She is also the treasurer and secretary of the New York State Academy of Nutrition and Dietetics, having previously served in many other leadership roles for the organization, including as past president, awards committee chair, and grant committee chair, among others. She is active in the local Greater New York Dietetic Association and Long Island Academy of Nutrition and Dietetics, too. Alice Martin is an award-winning journalist who frequently covers health and medical topics. Her work appears across multiple platforms including digital, broadcast and social media. As a contributing writer for Everyday Health, Alice provides readers with important health information on everything from heart disease to insomnia. Her work focuses on prevention, treatment, and the latest research and discoveries. As a producer for the world’s leading news organizations, Alice has covered breaking news, interviewed world leaders, and profiled newsmakers. At NBC News, she was part of the Emmy-award winning election team. She was the election night poll producer for NBC anchor Brian Williams, and was a contributing writer for the NBC News Election Policy Guide. She produced a live, daily news program at MSNBC. Alice traveled extensively with NBC News, reporting on a wide range of subjects including medical and health news. She assembled a terrorism preparedness plan with the Centers for Disease Control in the aftermath of 9/11, and was on the ground in Mississippi after Hurricane Katrina. Previously, Alice served as a field producer for CNN, coordinating live coverage of the Enron collapse and contributing to CNN.com. She started as a writer at CNN and later worked as a control room producer orchestrating live, daily, international broadcasts. She was a witness to some of the most important events of the 1990s including the Olympic Park Bombing, the impeachment of President Clinton, and the death and funeral of Princess Diana. Alice is passionate about reporting on health and wellness and strives to maintain a healthy lifestyle. She loves spreading the word about the benefits of diet, exercise and sleep on general health. Her writing encourages readers to take control of their health and make practical changes that work. A Colorado native, Alice is a graduate of the International School of Brussels and the University of Memphis. She loves French food, British movies, and American theatre. healthy recipes healthy recipes healthy recipes healthy recipes healthy recipes healthy recipes healthy recipes healthy recipes healthy recipes healthy recipes\n"
     ]
    }
   ],
   "source": [
    "print(text1)"
   ]
  },
  {
   "cell_type": "code",
   "execution_count": 3,
   "metadata": {},
   "outputs": [
    {
     "name": "stdout",
     "output_type": "stream",
     "text": [
      "Refrain from posting comments that are obscene, defamatory or inflammatory, and do not indulge in personal attacks, name calling or inciting hatred against any community. Help us delete comments that do not follow these guidelines by marking them offensive. Let's work together to keep the conversation civil. You have been successfully subscribed to the Food Newsletter We are sad to see you go! You have been successfully unsubscribed from the Food Newsletter Craving for a quick Chicken cutlet recipe for that perfect high tea? Then try this yummy Chicken Cutlet recipe at home and indulge in the goodness. If you want to enjoy a chicken cutlet recipe or chicken patties or chicken tikki, try our three in one recipe with step by step instructions. When craving something meaty and flavourful, make our easy chicken cutlet recipe that will win your heart. Ready in under an hour, this chicken cutlet recipe will become your favourite to treat friends and family. Children will fall in love with the tender yet the spicy taste of your chicken cutlets. You can have these tasty chicken cutlets as a snack or even add them to your sandwiches just like you would do with chicken patties or chicken tikki. Rich in protein, they are a must-have for kids, and you can try out this simple cutlet recipe at kitty parties and birthday parties. Add more veggies in the cutlet if you want a crispy and crunchy texture. Also, if you love spicy food and prefer lots of spice in the dishes, then sprinkle little red chilli flakes over the cutlets for a fiery experience. This snack recipe is sure to be a hit among all garlic lovers as it has a good amount of garlic in it which adds a unique and strong aroma to the cutlets. Cutlets are best served with sauces and condiments. However, this chicken cutlet recipe tastes best when served with cheesy dips. In fact, you can make the dish more delicious by adding some dry roasted nuts, this will add to the taste of this cutlet recipe. Pair this delicious cutlet recipe with some onion rings and enjoy.   This cutlet recipe is the easiest appetiser which can be prepared in no time by following some simple steps. Wash the chicken, parboil it and shred it. In the meantime, take a pan and heat oil in it over medium flame. Once the oil is sufficiently hot, add cumin seeds. Once the cumin seeds start to splutter, add chopped garlic and grated ginger. Fry until lightly golden. Make sure that the flame is on low so that the ginger and garlic don't burn. Once the raw flavour of garlic-ginger is gone, add chopped onions and sauté until soft. Wait for the onions to turn slightly translucent in colour. Then add finely chopped carrot and capsicum and saute for few minutes over a moderate-high flame. Take it off the heat, transfer it in a bowl and allow the mixture to cool for a while. In a large bowl, add boiled potatoes, shredded chicken, sauteed vegetable, green chillies, garam masala powder, oregano, cumin powder, bread crumbs, coriander leaves and mix well. Divide the mixture into equal lemon sized balls and shape each of them into a cutlet. Take each cutlet and coat it well with all-purpose flour. Then dip the cutlets in the beaten egg mixture and coat it with bread crumbs. Again dip the cutlet in the egg and then coat it with bread crumbs. Repeat the same for all. This step is important as it will give a crunchy texture to the cutlets. Place the cutlets on the tray lined with butter paper and freeze for 3-4 hours. Heat oil in a deep pan over medium flame and fry the cutlets until crisp and golden brown. Pair these delicious cutlets with some onion rings and serve them hot with ketchup, sauce or dip of your choice. Do try this recipe, rate it and let us know how it turned out to be. \n",
      "    \t                Subscribe to receive easy recipes in your inbox\n",
      "    \t             \n",
      "    \t                Subscribe to receive easy recipes in your inbox\n",
      "    \t            \n"
     ]
    }
   ],
   "source": [
    "print(text2)"
   ]
  },
  {
   "cell_type": "code",
   "execution_count": 4,
   "metadata": {},
   "outputs": [
    {
     "name": "stderr",
     "output_type": "stream",
     "text": [
      "[nltk_data] Downloading package stopwords to\n",
      "[nltk_data]     C:\\Users\\user\\AppData\\Roaming\\nltk_data...\n",
      "[nltk_data]   Unzipping corpora\\stopwords.zip.\n"
     ]
    }
   ],
   "source": [
    "import re\n",
    "import nltk\n",
    "from nltk.corpus import stopwords\n",
    "\n",
    "# Download stopwords if not already downloaded\n",
    "nltk.download('stopwords')\n",
    "\n",
    "# Function to preprocess text\n",
    "def preprocess_text(text):\n",
    "    # Lowercasing\n",
    "    text = text.lower()\n",
    "    # Removing special characters, numbers, and punctuation\n",
    "    text = re.sub(r'[^a-z\\s]', '', text)\n",
    "    # Tokenization\n",
    "    tokens = text.split()\n",
    "    # Stopword removal\n",
    "    stop_words = set(stopwords.words('english'))\n",
    "    tokens = [word for word in tokens if word not in stop_words]\n",
    "    return tokens\n",
    "\n",
    "tokens1 = preprocess_text(text1)\n",
    "tokens2 = preprocess_text(text2)\n"
   ]
  },
  {
   "cell_type": "code",
   "execution_count": 5,
   "metadata": {},
   "outputs": [
    {
     "name": "stdout",
     "output_type": "stream",
     "text": [
      "{'attacks', 'hatred', 'obscene', 'combining', 'weight', 'interviewed', 'pieces', 'equal', 'flavor', 'pureed', 'youve', 'social', 'several', 'nearly', 'splutter', 'preparedness', 'health', 'garlic', 'sources', 'loves', 'york', 'follow', 'kale', 'quantities', 'subscribe', 'receive', 'memphis', 'options', 'digital', 'sauteed', 'international', 'sports', 'lovers', 'even', 'university', 'youll', 'rdn', 'platforms', 'condiments', 'deep', 'romaine', 'hot', 'grant', 'chronic', 'overall', 'unique', 'coat', 'many', 'omelet', 'childhood', 'fiery', 'three', 'take', 'sandwiches', 'simple', 'masters', 'balsamic', 'collapse', 'following', 'allpurpose', 'simply', 'brussels', 'practice', 'tea', 'mississippi', 'diana', 'says', 'dandelion', 'leadership', 'type', 'life', 'preparing', 'raw', 'carrots', 'endive', 'mixes', 'night', 'writing', 'flour', 'prepared', 'reduce', 'contributor', 'enron', 'tough', 'students', 'lightly', 'attending', 'world', 'onion', 'spinach', 'prefer', 'hurricane', 'greens', 'leading', 'private', 'general', 'improve', 'fall', 'top', 'meaty', 'colorado', 'flavorwise', 'strong', 'knowledge', 'undergraduate', 'interest', 'may', 'taking', 'particularly', 'include', 'roles', 'later', 'association', 'created', 'birthday', 'tenets', 'usually', 'encourages', 'consultant', 'offer', 'enjoyed', 'sit', 'instructions', 'replacement', 'rollup', 'insomnia', 'coverage', 'rotation', 'chilli', 'nutritionally', 'cooked', 'conducts', 'absorption', 'covered', 'customary', 'bodys', 'sauting', 'leaves', 'c', 'witness', 'appetiser', 'adds', 'becomes', 'water', 'source', 'sleep', 'enjoy', 'base', 'tell', 'cycle', 'sauces', 'medicine', 'distinct', 'previously', 'mixture', 'something', 'name', 'wrap', 'nbc', 'nutrition', 'applies', 'cups', 'children', 'dont', 'small', 'worth', 'powder', 'salad', 'practices', 'albert', 'hand', 'worked', 'grilled', 'cool', 'lettuce', 'allergies', 'park', 'american', 'fluid', 'mixtures', 'community', 'secretary', 'quick', 'beet', 'different', 'island', 'ribbing', 'allow', 'centers', 'tender', 'steps', 'dietetic', 'us', 'civil', 'diverse', 'using', 'olympic', 'long', 'writer', 'awardwinning', 'appears', 'breaking', 'posting', 'profiled', 'taught', 'sensitivity', 'dietitiannutritionist', 'successfully', 'freeze', 'well', 'good', 'spreading', 'tastes', 'cutlet', 'news', 'entirely', 'easy', 'higherfiber', 'active', 'latest', 'chopped', 'frittata', 'organization', 'make', 'unsubscribed', 'meantime', 'craving', 'across', 'flakes', 'incorporated', 'theyre', 'french', 'citybased', 'pan', 'president', 'frequently', 'defamatory', 'cooking', 'comes', 'together', 'turn', 'whats', 'assembled', 'healthy', 'people', 'pairs', 'served', 'herbs', 'broadcast', 'treat', 'research', 'chillies', 'goodness', 'sufficiently', 'colour', 'sauted', 'chips', 'wash', 'wait', 'bombing', 'getting', 'bowl', 'leafy', 'legumes', 'nutrientrich', 'every', 'recommends', 'aftermath', 'differ', 'easily', 'inexpensive', 'part', 'repeat', 'traditional', 'subscribed', 'feta', 'soft', 'cook', 'boost', 'needs', 'sized', 'firm', 'counseling', 'taste', 'patties', 'certified', 'medical', 'ranking', 'leaders', 'garlicginger', 'way', 'add', 'dinner', 'brian', 'producer', 'bulk', 'choosing', 'oil', 'reporting', 'fry', 'topping', 'field', 'excellent', 'slightly', 'steamed', 'theatre', 'seeds', 'win', 'prepackaged', 'charred', 'family', 'try', 'team', 'events', 'ginger', 'vegetable', 'pack', 'meal', 'premixed', 'benefits', 'explains', 'awards', 'movies', 'delete', 'shred', 'british', 'disease', 'spice', 'lets', 'beaten', 'refrain', 'kennedy', 'little', 'nutritional', 'best', 'kitty', 'therapy', 'control', 'peppery', 'produced', 'lots', 'amount', 'appreciates', 'recommend', 'risk', 'cheesy', 'choice', 'glass', 'low', 'dose', 'contributing', 'dressing', 'mustard', 'cancer', 'ready', 'tasty', 'everything', 'chard', 'better', 'impeachment', 'still', 'gram', 'calories', 'alternatively', 'one', 'chicken', 'dips', 'opt', 'cant', 'perfect', 'bread', 'shredded', 'sprinkle', 'sure', 'gastrointestinal', 'musthave', 'internship', 'balance', 'portion', 'longer', 'prepare', 'interns', 'guide', 'iceberg', 'terrorism', 'fatsoluble', 'paper', 'graduate', 'boiled', 'create', 'stirred', 'much', 'state', 'available', 'carrot', 'marking', 'value', 'food', 'newsletter', 'parties', 'dry', 'easiest', 'key', 'roasted', 'flavour', 'place', 'crunchy', 'cultural', 'rich', 'vegetables', 'wellness', 'b', 'registered', 'policy', 'minerals', 'exercise', 'serve', 'consider', 'distance', 'cnn', 'prevention', 'poll', 'roll', 'start', 'corporate', 'williams', 'rate', 'offensive', 'remove', 'laguardia', 'strategy', 'though', 'potatoes', 'yet', 'media', 'practical', 'crisp', 'used', 'olive', 'provides', 'rings', 'degree', 'princess', 'adding', 'inside', 'recipe', 'cheese', 'cumin', 'sandwich', 'school', 'nutritionist', 'college', 'dip', 'cardiac', 'golden', 'range', 'calling', 'important', 'information', 'mix', 'offered', 'treatment', 'delicious', 'focuses', 'contain', 'hour', 'ideas', 'read', 'lowcarb', 'room', 'know', 'addition', 'including', 'greater', 'vitamin', 'diet', 'idea', 'vitamins', 'translucent', 'brown', 'columbia', 'prep', 'strives', 'aroma', 'lemon', 'transfer', 'flavourful', 'would', 'strawberries', 'cutlets', 'outcomes', 'coriander', 'academy', 'collard', 'everyone', 'snack', 'experience', 'past', 'protein', 'passionate', 'variety', 'diabetes', 'almost', 'garam', 'martin', 'squash', 'renal', 'live', 'touch', 'topics', 'divide', 'kelly', 'green', 'turned', 'coordinating', 'organizations', 'carbs', 'inspo', 'balls', 'anchor', 'watercress', 'oregano', 'nuts', 'youd', 'first', 'broadcasts', 'saute', 'precepts', 'yummy', 'covers', 'want', 'moderatehigh', 'dish', 'einstein', 'enough', 'sad', 'amazing', 'election', 'daily', 'onions', 'g', 'recipes', 'heart', 'minutes', 'newsmakers', 'wide', 'clinton', 'k', 'get', 'side', 'let', 'parboil', 'swiss', 'comments', 'advantage', 'didnt', 'ingredients', 'nice', 'spicy', 'condiment', 'removed', 'inbox', 'staff', 'extensively', 'sauce', 'saut', 'disorders', 'said', 'tikki', 'maintain', 'nitrates', 'started', 'inciting', 'great', 'discoveries', 'foods', 'orchestrating', 'burn', 'red', 'plan', 'eating', 'go', 'eaten', 'capsicum', 'personal', 'makes', 'veggies', 'others', 'winning', 'hit', 'friends', 'changes', 'fat', 'program', 'diplomate', 'time', 'pair', 'surprised', 'broccoli', 'masala', 'word', 'dietetics', 'flavorpacked', 'lifestyle', 'work', 'either', 'reyna', 'menu', 'funeral', 'specialist', 'quiche', 'step', 'keep', 'warm', 'patients', 'finely', 'medicines', 'death', 'traveled', 'local', 'lined', 'buy', 'theres', 'bit', 'somewhat', 'baked', 'nutrients', 'become', 'anyone', 'msnbc', 'love', 'help', 'texture', 'dishes', 'home', 'blend', 'sort', 'id', 'doesnt', 'hours', 'native', 'simmer', 'fiber', 'egg', 'group', 'crispy', 'instead', 'member', 'management', 'conversation', 'nutritiondense', 'chop', 'also', 'extra', 'youre', 'vinegar', 'treasurer', 'ground', 'alice', 'crumbs', 'shape', 'soup', 'franco', 'new', 'multiple', 'trainer', 'committee', 'inflammatory', 'alone', 'beans', 'high', 'flame', 'kids', 'butter', 'journalist', 'give', 'chair', 'without', 'antioxidants', 'looking', 'individual', 'ketchup', 'everyday', 'emmyaward', 'physiology', 'worlds', 'gone', 'cnncom', 'indulge', 'however', 'among', 'large', 'medium', 'demonstrates', 'see', 'grated', 'like', 'cup', 'tray', 'tried', 'tortilla', 'seminars', 'guidelines', 'tossing', 'heat', 'subjects', 'katrina', 'readers', 'favourite', 'arugula', 'fact', 'size', 'crunch'}\n"
     ]
    }
   ],
   "source": [
    "# Combine tokens from both texts\n",
    "combined_tokens = tokens1 + tokens2\n",
    "# Extract unique tokens\n",
    "unique_tokens = set(combined_tokens)\n",
    "\n",
    "print(unique_tokens)"
   ]
  },
  {
   "cell_type": "code",
   "execution_count": null,
   "metadata": {},
   "outputs": [],
   "source": []
  }
 ],
 "metadata": {
  "kernelspec": {
   "display_name": "Python 3",
   "language": "python",
   "name": "python3"
  },
  "language_info": {
   "codemirror_mode": {
    "name": "ipython",
    "version": 3
   },
   "file_extension": ".py",
   "mimetype": "text/x-python",
   "name": "python",
   "nbconvert_exporter": "python",
   "pygments_lexer": "ipython3",
   "version": "3.12.9"
  }
 },
 "nbformat": 4,
 "nbformat_minor": 2
}
